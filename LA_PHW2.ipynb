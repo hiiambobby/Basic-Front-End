{
  "cells": [
    {
      "cell_type": "markdown",
      "metadata": {
        "id": "view-in-github",
        "colab_type": "text"
      },
      "source": [
        "<a href=\"https://colab.research.google.com/github/hiiambobby/Basic-Front-End/blob/main/LA_PHW2.ipynb\" target=\"_parent\"><img src=\"https://colab.research.google.com/assets/colab-badge.svg\" alt=\"Open In Colab\"/></a>"
      ]
    },
    {
      "cell_type": "markdown",
      "metadata": {
        "id": "33-X3yFDCUJD"
      },
      "source": [
        "# Linear Algebra Practical Homework 2:\n",
        "\n",
        "The following assignment consists of:\n",
        "1. Implementation of elementary row operations : Scaling, Replacement, Interchange\n",
        "2. Using the defined functions to find the answer of a system\n",
        "3. Calculation of the determinant\n",
        "4. EXTRA - Plotting the answer\n",
        "\n",
        "TAs in charge: @ayrozz , @alijahan890"
      ]
    },
    {
      "cell_type": "markdown",
      "metadata": {
        "id": "t6ckBZ1yCUJH"
      },
      "source": [
        "Please fill in the following information:\n",
        "\n",
        "- Student: [Saba Seyed tabaei]\n",
        "- Student ID: [40123042]"
      ]
    },
    {
      "cell_type": "markdown",
      "source": [
        "# How to complete this notebook?\n",
        "To complete this notebook you just need to change the parts of code that is marked by comment `#CHNAGE THIS PART`. Please do not change cells that contains comment `# DO NOT CHANGE THIS CELL`. These cells are for evaluating your implementation."
      ],
      "metadata": {
        "collapsed": false,
        "id": "38d_JXbcCUJH"
      }
    },
    {
      "cell_type": "markdown",
      "metadata": {
        "id": "2V3HkApDCUJI"
      },
      "source": [
        "# Attention!\n",
        " - You are free to add, remove or edit each cell in any way you desire.\n",
        " - We strongly recommend you to observe the default order of different parts of this file.\n",
        " - NO PREDEFINED BUILT-IN FUNCTION OF EXTERNAL LIBRARIES SUCH AS NUMPY IS ALLOWED!"
      ]
    },
    {
      "cell_type": "markdown",
      "metadata": {
        "id": "oqsFWjJoCUJI"
      },
      "source": [
        "### 0. Libraries"
      ]
    },
    {
      "cell_type": "code",
      "execution_count": 49,
      "metadata": {
        "is_executing": true,
        "id": "Ocm2iiGECUJI"
      },
      "outputs": [],
      "source": [
        "import time\n",
        "import matplotlib\n",
        "import numpy as np"
      ]
    },
    {
      "cell_type": "markdown",
      "metadata": {
        "id": "Au5wZYbHCUJK"
      },
      "source": [
        "## 1. Implementation of elementary row operations\n",
        "Implement these operations from scratch, for they will be used for upcoming sections\n"
      ]
    },
    {
      "cell_type": "markdown",
      "metadata": {
        "id": "hPAts272CUJL"
      },
      "source": [
        "### 1.1. Scaling"
      ]
    },
    {
      "cell_type": "code",
      "execution_count": 70,
      "metadata": {
        "id": "aWQOW-tXCUJM"
      },
      "outputs": [],
      "source": [
        "def op_scale(A, R, C):\n",
        "    #CHNAGE THIS PART\n",
        "    \"\"\" Multiply the R-th row of the matrix A by C, and return the new matrix \"\"\"\n",
        "    R -= 1\n",
        "    A[R] *= C\n",
        "    print(A)"
      ]
    },
    {
      "cell_type": "code",
      "outputs": [
        {
          "output_type": "stream",
          "name": "stdout",
          "text": [
            "[[10  3  2  1]\n",
            " [ 3  0 12  6]\n",
            " [ 7  5 -1  9]\n",
            " [-6 -7  8 -4]]\n"
          ]
        },
        {
          "output_type": "execute_result",
          "data": {
            "text/plain": [
              "'\\n Expected_output = [[10, 3, 2, 1],\\n                    [ 3, 0,12, 6],\\n                    [ 7, 5,-1, 9],\\n                    [-6,-7, 8,-4]]\\n'"
            ],
            "application/vnd.google.colaboratory.intrinsic+json": {
              "type": "string"
            }
          },
          "metadata": {},
          "execution_count": 71
        }
      ],
      "source": [
        "#e.g.\n",
        "# DO NOT CHANGE THIS CELL\n",
        "A = np.array([[10, 3, 2, 1],\n",
        "               [ 1, 0, 4, 2],\n",
        "               [ 7, 5,-1, 9],\n",
        "               [-6,-7, 8,-4]])\n",
        "\n",
        "op_scale(A, 2, 3)\n",
        "\n",
        "\n",
        "\"\"\"\n",
        " Expected_output = [[10, 3, 2, 1],\n",
        "                    [ 3, 0,12, 6],\n",
        "                    [ 7, 5,-1, 9],\n",
        "                    [-6,-7, 8,-4]]\n",
        "\"\"\"\n"
      ],
      "metadata": {
        "is_executing": true,
        "colab": {
          "base_uri": "https://localhost:8080/",
          "height": 105
        },
        "id": "9AcRMrqJCUJN",
        "outputId": "5feb7aee-94b4-47c9-b4ab-d31d1574824d"
      },
      "execution_count": 71
    },
    {
      "cell_type": "markdown",
      "metadata": {
        "id": "CAoguYyrCUJN"
      },
      "source": [
        "### 1.2. Interchange"
      ]
    },
    {
      "cell_type": "code",
      "execution_count": 73,
      "metadata": {
        "id": "vXxQpsKXCUJO"
      },
      "outputs": [],
      "source": [
        "def op_interchange(A, R1, R2):\n",
        "    #CHNAGE THIS PART\n",
        "    \"\"\" Replace R1-th and R2-th rows in the matrix A, and return the new matrix \"\"\"\n",
        "    R1 = R1 - 1\n",
        "    R2 = R2 - 1\n",
        "    A[[R1,R2]] = A[[R2,R1]]\n",
        "    print(A)\n",
        "\n",
        ""
      ]
    },
    {
      "cell_type": "code",
      "outputs": [
        {
          "output_type": "stream",
          "name": "stdout",
          "text": [
            "[[10  3  2  1]\n",
            " [ 3  0 12  6]\n",
            " [-6 -7  8 -4]\n",
            " [ 7  5 -1  9]]\n"
          ]
        },
        {
          "output_type": "execute_result",
          "data": {
            "text/plain": [
              "'\\nExpected_output = [[10, 3, 2, 1],\\n                    [ 3, 0,12, 6],\\n                    [-6,-7, 8,-4],\\n                    [ 7, 5,-1, 9]]\\n'"
            ],
            "application/vnd.google.colaboratory.intrinsic+json": {
              "type": "string"
            }
          },
          "metadata": {},
          "execution_count": 74
        }
      ],
      "source": [
        "# e.g.\n",
        "# DO NOT CHANGE THIS CELL\n",
        "op_interchange(A, 3, 4)\n",
        "\"\"\"\n",
        "Expected_output = [[10, 3, 2, 1],\n",
        "                    [ 3, 0,12, 6],\n",
        "                    [-6,-7, 8,-4],\n",
        "                    [ 7, 5,-1, 9]]\n",
        "\"\"\""
      ],
      "metadata": {
        "colab": {
          "base_uri": "https://localhost:8080/",
          "height": 105
        },
        "id": "6r9BQlV0CUJO",
        "outputId": "e1eddd58-c23a-45b8-8d75-259703e4679f"
      },
      "execution_count": 74
    },
    {
      "cell_type": "markdown",
      "metadata": {
        "id": "tbxwodJNCUJO"
      },
      "source": [
        "### 1.3. Replace"
      ]
    },
    {
      "cell_type": "code",
      "execution_count": 75,
      "metadata": {
        "id": "rELnQ9AwCUJO"
      },
      "outputs": [],
      "source": [
        "def op_replace(A, R1, R2 , C):\n",
        "    #CHNAGE THIS PART\n",
        "    \"\"\" Replace the R2-th row with (R2 + C*R1), and return the new matrix \"\"\"\n",
        "    R2 -= 1\n",
        "    R1 -= 1\n",
        "    A[R2] = A[R2] + A[R1] * C\n",
        "    print(A)\n",
        ""
      ]
    },
    {
      "cell_type": "code",
      "outputs": [
        {
          "output_type": "stream",
          "name": "stdout",
          "text": [
            "[[22  3 50 25]\n",
            " [ 3  0 12  6]\n",
            " [-6 -7  8 -4]\n",
            " [ 7  5 -1  9]]\n"
          ]
        },
        {
          "output_type": "execute_result",
          "data": {
            "text/plain": [
              "'\\nExpected_output = [[22, 3,50,25],\\n                   [ 3, 0,12, 6],\\n                   [-6,-7, 8,-4],\\n                   [ 7, 5,-1, 9]]\\n'"
            ],
            "application/vnd.google.colaboratory.intrinsic+json": {
              "type": "string"
            }
          },
          "metadata": {},
          "execution_count": 76
        }
      ],
      "source": [
        "# e.g.\n",
        "# DO NOT CHANGE THIS CELL\n",
        "op_replace(A, 2, 1, 4)\n",
        "\"\"\"\n",
        "Expected_output = [[22, 3,50,25],\n",
        "                   [ 3, 0,12, 6],\n",
        "                   [-6,-7, 8,-4],\n",
        "                   [ 7, 5,-1, 9]]\n",
        "\"\"\"\n"
      ],
      "metadata": {
        "colab": {
          "base_uri": "https://localhost:8080/",
          "height": 105
        },
        "id": "YuiGayUvCUJP",
        "outputId": "65796e28-c889-4c99-d372-0727ad3c5c29"
      },
      "execution_count": 76
    },
    {
      "cell_type": "markdown",
      "metadata": {
        "id": "MPUhxF9UCUJP"
      },
      "source": [
        "## 2. Solving a system of linear equations\n",
        "In this part, you are required to use the functions defined in the previous part to find the solution to a linear system of equations.\n"
      ]
    },
    {
      "cell_type": "markdown",
      "metadata": {
        "id": "oREhRSm0CUJP"
      },
      "source": [
        "### 2.1. Row Echelon Form"
      ]
    },
    {
      "cell_type": "code",
      "execution_count": null,
      "metadata": {
        "id": "YVCmsniFCUJP"
      },
      "outputs": [],
      "source": [
        "def row_echelon(A):\n",
        "    #CHNAGE THIS PART\n",
        "    \"\"\" Define an algorithm to find the row-echelon form of the input matrix, row-echelon form of a matrix is not unique, so any true row-echelon form is acceptable.\"\"\""
      ]
    },
    {
      "cell_type": "code",
      "outputs": [],
      "source": [
        "#e.g.\n",
        "# DO NOT CHANGE THIS CELL\n",
        "B = np.array([[ 1, 2, 3, 4],\n",
        "              [ 5, 6, 7, 8],\n",
        "              [ 9,10,11,12]])\n",
        "row_echelon(B)\n",
        "\"\"\"\"\n",
        "Notice that any true row-echelon form is acceptable. An example is given below:\n",
        "([[ 1, 2, 3, 4],\n",
        "  [ 0,-4,-8,-12],\n",
        "  [ 0, 0, 0, 0]])\n",
        "\"\"\"\n"
      ],
      "metadata": {
        "id": "jhv7gaL-CUJP"
      },
      "execution_count": null
    },
    {
      "cell_type": "markdown",
      "metadata": {
        "id": "Nbkos2b9CUJP"
      },
      "source": [
        "### 2.2. Reduce Row Echelon Form"
      ]
    },
    {
      "cell_type": "code",
      "execution_count": null,
      "metadata": {
        "id": "yR-K83hYCUJQ"
      },
      "outputs": [],
      "source": [
        "def reduce(A):\n",
        "    #CHNAGE THIS PART\n",
        "    \"\"\" Define an algorithm to find the reduced-row-echelon form of the input matrix\n",
        "        ATTENTION : Assume  the input matrix is already in row-echelon form!\"\"\""
      ]
    },
    {
      "cell_type": "code",
      "outputs": [],
      "source": [
        "# e.g.\n",
        "# DO NOT CHANGE THIS CELL\n",
        "B = np.array([[ 1, 2, 3, 4],\n",
        "              [ 0,-4,-8,-12],\n",
        "              [ 0, 0, 0, 0]])\n",
        "reduce(B)\n",
        "\"\"\"\n",
        "Expected_output = [[ 1, 0,-1,-2],\n",
        "                   [ 0, 1, 2, 3],\n",
        "                   [ 0, 0, 0, 0]]\n",
        "\"\"\""
      ],
      "metadata": {
        "id": "XswNIPQzCUJQ"
      },
      "execution_count": null
    },
    {
      "cell_type": "markdown",
      "metadata": {
        "id": "PTl8f8VMCUJQ"
      },
      "source": [
        "### 2.3. Existence of the Solution\n",
        "Based on the reduced form of the augmented matrix and prior to finding the answer, make sure the solution exists!"
      ]
    },
    {
      "cell_type": "code",
      "execution_count": null,
      "metadata": {
        "id": "Ssz_FiN4CUJQ"
      },
      "outputs": [],
      "source": [
        "def is_consistent(A):\n",
        "    #CHNAGE THIS PART\n",
        "    \"\"\" Make sure the system has a solution or not \"\"\""
      ]
    },
    {
      "cell_type": "code",
      "outputs": [],
      "source": [
        "#e.g.\n",
        "# DO NOT CHANGE THIS CELL\n",
        "is_consistent(B)\n",
        "\"\"\"\n",
        "expected_output: true\n",
        "\"\"\""
      ],
      "metadata": {
        "id": "dpbeegNgCUJQ"
      },
      "execution_count": null
    },
    {
      "cell_type": "markdown",
      "metadata": {
        "id": "-mcljOMvCUJR"
      },
      "source": [
        "### 2.4. Uniqueness of the Solution\n",
        "Based on prior information, make sure whether the solution is unique or not!"
      ]
    },
    {
      "cell_type": "code",
      "execution_count": null,
      "metadata": {
        "is_executing": true,
        "id": "5O7jLFAFCUJR"
      },
      "outputs": [],
      "source": [
        "def is_unique(A):\n",
        "    #CHNAGE THIS PART\n",
        "    \"\"\" Address the uniqueness of solution \"\"\""
      ]
    },
    {
      "cell_type": "code",
      "outputs": [],
      "source": [
        "#e.g.\n",
        "# DO NOT CHANGE THIS CELL\n",
        "is_unique(B)\n",
        "\"\"\"\n",
        "expected_output: false\n",
        "\"\"\""
      ],
      "metadata": {
        "id": "Puw7Iz9bCUJR"
      },
      "execution_count": null
    },
    {
      "cell_type": "markdown",
      "metadata": {
        "id": "VNwA6W_xCUJS"
      },
      "source": [
        "### 2.5. Finding (just a) Solution\n",
        "If the system has a solution, find and return it.\n",
        "If the system has infinite solutions, return only one solution and double-check it with the original system defintion."
      ]
    },
    {
      "cell_type": "code",
      "execution_count": null,
      "metadata": {
        "id": "SMughBCYCUJS"
      },
      "outputs": [],
      "source": [
        "def solve(A):\n",
        "    #CHNAGE THIS PART\n",
        "    \"\"\" Find the solution, A is the augmented matrix \"\"\""
      ]
    },
    {
      "cell_type": "markdown",
      "metadata": {
        "id": "48KU3vB0CUJS"
      },
      "source": [
        "## 3. Determinant\n",
        "In this section, you are requiered to find the determinant of a matrix in two different ways and compare them in the sense of computation complexity.\n"
      ]
    },
    {
      "cell_type": "markdown",
      "metadata": {
        "id": "WAh6qrCnCUJS"
      },
      "source": [
        "### 3.1. Recursive algorithm\n",
        "Implement a recursive algorithm to compute the determinant of a N*N matrix, using expansion with respect to a column or a row.\n"
      ]
    },
    {
      "cell_type": "code",
      "execution_count": null,
      "metadata": {
        "id": "j6pU4M4eCUJT"
      },
      "outputs": [],
      "source": [
        "def det_recursive(A):\n",
        "    #CHNAGE THIS PART\n",
        "    \"\"\" Find the determinant of the matrix A, make sure it is a square matrix and raise an error otherwise \"\"\""
      ]
    },
    {
      "cell_type": "code",
      "outputs": [],
      "source": [
        "#e.g.\n",
        "# DO NOT CHANGE THIS CELL\n",
        "Matrix = np.array([[ 5, 7,-2, 1],\n",
        "                   [-1, 5,-3, 0],\n",
        "                   [ 3,11,-2,-9],\n",
        "                   [ 8, 0, 4,-1]])\n",
        "print(det_recursive(Matrix))\n",
        "\"\"\"\n",
        "expected_output = 190\n",
        "\"\"\""
      ],
      "metadata": {
        "id": "YLWzggmZCUJT"
      },
      "execution_count": null
    },
    {
      "cell_type": "markdown",
      "metadata": {
        "id": "00PQ1ggBCUJT"
      },
      "source": [
        "#### 3.1.1. Test your algorithm\n",
        "Measure the computation time of you recursive algorithm by testing it N*N matrixes, N= 2, 3, 4, 5, 6, 7"
      ]
    },
    {
      "cell_type": "code",
      "execution_count": null,
      "metadata": {
        "is_executing": true,
        "id": "SfUa0J9NCUJT"
      },
      "outputs": [],
      "source": [
        "# Testing\n",
        "M2 = [[4,5],[2,3]]\n",
        "M3 = [[3,2,1],[2,2,2],[0,3,1]]\n",
        "# M4 =\n",
        "# define the rest of the matrixes up to 7*7, you may use random number generators\n",
        "\n",
        "elapsed_time_recursive=[0]*6\n",
        "\n",
        "start_time = time.time()\n",
        "d1 = det_recursive(M2)\n",
        "end_time = time.time()\n",
        "elapsed_time_recursive[0] = end_time - start_time\n",
        "print(\"Time Elapsed for recursive computation of determinant of M2 : \" , elapsed_time_recursive[0])\n",
        "\n",
        "# Do the same for the rest of the matrices up to 7*7\n"
      ]
    },
    {
      "cell_type": "markdown",
      "metadata": {
        "id": "h5P7vW0ACUJU"
      },
      "source": [
        "### 3.2. Row Echelon\n",
        "Use the function defined in part 1 to find the row echelon form of the matrix and calculate the determinant\n",
        "\n",
        "#### ATTENTION: BEWARE OF THE IMPACT OF EACH OPERATION ON THE DETERMINANT!"
      ]
    },
    {
      "cell_type": "code",
      "execution_count": null,
      "metadata": {
        "id": "uCoyWF8yCUJU"
      },
      "outputs": [],
      "source": [
        "def det_row_echelon(A):\n",
        "    #CHNAGE THIS PART\n",
        "    \"\"\" Find the determinant of the matrix A, make sure it is a square matrix and raise error otherwise \"\"\""
      ]
    },
    {
      "cell_type": "markdown",
      "metadata": {
        "id": "7C1wWoX3CUJZ"
      },
      "source": [
        "#### 3.2.1 Test your algorithm\n",
        "Measure the computation time of you recursive algorithm by testing it on the matrixes defined in the previous section."
      ]
    },
    {
      "cell_type": "code",
      "execution_count": null,
      "metadata": {
        "id": "8gJR-XByCUJa"
      },
      "outputs": [],
      "source": [
        "# Testing\n",
        "elapsed_time_rowechelon=[0]*6\n",
        "\n",
        "start_time = time.time()\n",
        "d1 = det_row_echelon(M2)\n",
        "end_time= time.time()\n",
        "elapsed_time_rowechelon[0] = end_time - start_time\n",
        "\n",
        "print(\"Time Elapsed for recursive computation of determinant of M2 : \" , elapsed_time_rowechelon[0])\n",
        "\n",
        "# Do the same for the rest of the matrices up to 7*7"
      ]
    },
    {
      "cell_type": "markdown",
      "metadata": {
        "id": "dn8FqvlzCUJa"
      },
      "source": [
        "### 3.3. Compare the computation time of the two proposed methods\n",
        "Try to plot the computation time versus matrix size for both methods using matplotlib functions."
      ]
    },
    {
      "cell_type": "code",
      "execution_count": null,
      "metadata": {
        "id": "HHcKDBN7CUJa"
      },
      "outputs": [],
      "source": [
        "# Plot the recorded data"
      ]
    },
    {
      "cell_type": "markdown",
      "metadata": {
        "id": "H9RBn_UYCUJa"
      },
      "source": [
        "## 4. EXTRA - 2D and 3D plotting\n",
        "In this part, you are demanded to solve two underdetermined systems of size N=2 and N=3 and plot the hyperplane of the results using matplotlib.\n",
        "For example if a 2*2 system in underdetermined (has infinitely many solutions), the solution space is the span of a vector set consisting of one 2-dimentional vector, thus it can be plotted as a line in the 2D space.\n",
        "\n",
        "Solving this part will provide you with extra points."
      ]
    },
    {
      "cell_type": "code",
      "execution_count": null,
      "metadata": {
        "id": "xNlWYUDRCUJb"
      },
      "outputs": [],
      "source": [
        "# Plot the solution set"
      ]
    }
  ],
  "metadata": {
    "language_info": {
      "name": "python"
    },
    "orig_nbformat": 4,
    "colab": {
      "provenance": [],
      "include_colab_link": true
    },
    "kernelspec": {
      "name": "python3",
      "display_name": "Python 3"
    }
  },
  "nbformat": 4,
  "nbformat_minor": 0
}